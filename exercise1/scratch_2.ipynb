{
 "cells": [
  {
   "cell_type": "code",
   "execution_count": 3,
   "outputs": [],
   "source": [
    "import numpy as np\n",
    "from scipy.ndimage import label, generate_binary_structure\n",
    "from scipy import ndimage"
   ],
   "metadata": {
    "collapsed": false,
    "ExecuteTime": {
     "end_time": "2023-10-25T08:07:15.096429Z",
     "start_time": "2023-10-25T08:07:15.051720Z"
    }
   }
  },
  {
   "cell_type": "code",
   "execution_count": 7,
   "outputs": [],
   "source": [
    "def measure_box_dimensions(box_mask, floor_plane, top_plane):\n",
    "    # calculate hight : distance between the 2 plains\n",
    "    height = abs(top_plane[3] - floor_plane[3]) / np.linalg.norm(floor_plane[:3])\n",
    "    # calculate lenght and width: 1. find corners\n",
    "                                #2. find coordinates of the corners\n",
    "                                #3. subtract the coordinates.\n",
    "\n",
    "\n",
    "    #about 1.) find corners we need a intersection line from both planes\n",
    "    intersection_line = np.cross(floor_plane[:3], top_plane[:3])\n",
    "\n",
    "    # Normalize the intersection line\n",
    "    intersection_line /= np.linalg.norm(intersection_line)\n",
    "    #finding box corners\n",
    "    #1)findining first for box corner from pixel\n",
    "    #2)than intersecting the line of  from box plane to surace plane\n",
    "    # Define parameters for the Harris corner detection\n",
    "    k = 0.04  # Harris corner constant (adjust as needed)\n",
    "    window_size = 3  # Size of the window for local analysis\n",
    "    threshold = 5000  # Adjust this threshold as needed\n",
    "\n",
    "    ############################\n",
    "#  TOP box corners via pixel\n",
    "    # Calculate image gradients\n",
    "    dx = PC[:]# x elements\n",
    "    dy = PC[:]# y elements\n",
    "\n",
    "    Ix = convolve(PC,dx)\n",
    "    Iy = convolve(PC, dy)\n",
    "\n",
    "    # Calculate components of the Harris matrix M\n",
    "    Ix2 = Ix * Ix\n",
    "    Iy2 = Iy * Iy\n",
    "    IxIy = Ix * Iy\n",
    "\n",
    "    # Calculate the sums of squared differences within the window\n",
    "    A = convolve(Ix2, np.ones((window_size, window_size)))\n",
    "    B = convolve(Iy2, np.ones((window_size, window_size)))\n",
    "    C = convolve(IxIy, np.ones((window_size, window_size)))\n",
    "\n",
    "    # Calculate the determinant and trace of M for each pixel\n",
    "    T = np.array([[A,C],[C,B]])\n",
    "    trace_M = np.trace(T)\n",
    "    det_M = np.linalg.det(T.T)\n",
    "    trace_M = trace_M.T\n",
    "\n",
    "    # Calculate the Harris response for each pixel\n",
    "    harris_response = det_M - k * (trace_M**2)\n",
    "\n",
    "    # Threshold the Harris response to find corners\n",
    "    corners = np.argwhere(harris_response > threshold)\n",
    "\n",
    "    ############################################\n",
    "##2) finding the corner at bootom part of corner of box with intersecting lines on surace plane\n",
    "\n",
    "    bottom_box_corners = []\n",
    "    for i in range(4):\n",
    "        # For each corner of the box, compute the intersection point with the intersection line\n",
    "        corner = np.array([x[i], y[i], z[i]])  # Replace with the coordinates of the box's corners\n",
    "        t = -(np.dot(intersection_line, corner) + intersection_line[3]) / np.dot(intersection_line, intersection_line)\n",
    "        intersection_point = corner + t * intersection_line\n",
    "        bottom_box_corners.append(intersection_point)\n",
    "\n",
    "    return bottom_box_corners\n",
    "\n",
    "    # Calculate the length, width, and depth of the box\n",
    "    length = np.linalg.norm(box_corners[0] - box_corners[1])\n",
    "    width = np.linalg.norm(box_corners[1] - box_corners[2])\n",
    "    depth = np.linalg.norm(box_corners[0] - box_corners[3])\n",
    "\n",
    "    return {\"height\": height,\"length\": length,\"width\": width,\"depth\": depth}\n",
    "    pass"
   ],
   "metadata": {
    "collapsed": false,
    "ExecuteTime": {
     "end_time": "2023-10-25T09:49:51.629474Z",
     "start_time": "2023-10-25T09:49:51.534372Z"
    }
   }
  },
  {
   "cell_type": "code",
   "execution_count": null,
   "outputs": [],
   "source": [
    "# scipy.ndimage.label(box_top_detection)\n",
    "labeled_array, num_features = ndimage.label(box_top_detection)\n",
    "\n",
    "# Find the largest connected component\n",
    "unique_labels, label_counts = np.unique(labeled_array, return_counts=True)\n",
    "\n",
    "# Exclude label 0, which represents the background\n",
    "label_counts = label_counts[1:]\n",
    "largest_component_label = unique_labels[np.argmax(label_counts)]\n",
    "\n",
    "# Create a mask for the largest component\n",
    "largest_component_mask = labeled_array == largest_component_label"
   ],
   "metadata": {
    "collapsed": false
   }
  }
 ],
 "metadata": {
  "kernelspec": {
   "display_name": "Python 3",
   "language": "python",
   "name": "python3"
  },
  "language_info": {
   "codemirror_mode": {
    "name": "ipython",
    "version": 2
   },
   "file_extension": ".py",
   "mimetype": "text/x-python",
   "name": "python",
   "nbconvert_exporter": "python",
   "pygments_lexer": "ipython2",
   "version": "2.7.6"
  }
 },
 "nbformat": 4,
 "nbformat_minor": 0
}
