{
 "cells": [
  {
   "cell_type": "code",
   "execution_count": 1,
   "metadata": {
    "collapsed": true,
    "ExecuteTime": {
     "end_time": "2023-12-21T11:57:15.111130Z",
     "start_time": "2023-12-21T11:57:05.636681Z"
    }
   },
   "outputs": [],
   "source": [
    "import spacy\n",
    "import PyPDF2\n",
    "import pandas as pd"
   ]
  },
  {
   "cell_type": "code",
   "execution_count": 2,
   "outputs": [],
   "source": [
    "nlp = spacy.load(\"de_core_news_sm\")\n",
    "\n",
    "def extract_text_from_pdf_with_ocr(pdf_path):\n",
    "    # Open the PDF file\n",
    "    with open(pdf_path, 'rb') as file:\n",
    "        # Create a PDF reader object\n",
    "        pdf_reader = PyPDF2.PdfReader(file)\n",
    "\n",
    "        # Initialize an empty string to store extracted text\n",
    "        text = ''\n",
    "\n",
    "        # Iterate through all pages of the PDF\n",
    "        for page_num in range(len(pdf_reader.pages)):\n",
    "            # Extract text from the current page\n",
    "            text += pdf_reader.pages[page_num].extract_text()\n",
    "\n",
    "    return text"
   ],
   "metadata": {
    "collapsed": false,
    "ExecuteTime": {
     "end_time": "2023-12-21T11:57:27.014012Z",
     "start_time": "2023-12-21T11:57:25.764507Z"
    }
   }
  },
  {
   "cell_type": "code",
   "execution_count": 13,
   "outputs": [],
   "source": [
    "def process_text_with_spacy(text):\n",
    "    # Process the text using spaCy\n",
    "    doc = nlp(text)\n",
    "\n",
    "    # Extracted data organized by person\n",
    "    person_data = {}\n",
    "\n",
    "    for entity in doc.ents:\n",
    "        # Check if the entity is a person\n",
    "        if entity.label_ == 'PERSON':\n",
    "            person_name = entity.text\n",
    "\n",
    "            # Check if the person already exists in the data dictionary\n",
    "            if person_name not in person_data:\n",
    "                person_data[person_name] = {\n",
    "                    'Identity Number': len(person_data) + 1,\n",
    "                    'Attributes': [entity.text],\n",
    "                }\n",
    "            else:\n",
    "                # Append additional attributes to the existing person\n",
    "                person_data[person_name]['Attributes'].append(entity.text)\n",
    "\n",
    "    return person_data"
   ],
   "metadata": {
    "collapsed": false,
    "ExecuteTime": {
     "end_time": "2023-12-21T12:02:34.505467Z",
     "start_time": "2023-12-21T12:02:34.459068Z"
    }
   }
  },
  {
   "cell_type": "code",
   "execution_count": 14,
   "outputs": [],
   "source": [
    "def save_to_excel(data, excel_path):\n",
    "    # Create a pandas DataFrame from the extracted data\n",
    "    rows = []\n",
    "    for person_name, attributes in data.items():\n",
    "        row = {'Identity Number': attributes['Identity Number'], 'Person': person_name, 'Attributes': ', '.join(attributes['Attributes'])}\n",
    "        rows.append(row)\n",
    "\n",
    "    df = pd.DataFrame(rows)\n",
    "\n",
    "    # Save the DataFrame to an Excel file\n",
    "    df.to_excel(excel_path, index=False)"
   ],
   "metadata": {
    "collapsed": false,
    "ExecuteTime": {
     "end_time": "2023-12-21T12:02:35.185331Z",
     "start_time": "2023-12-21T12:02:35.174692Z"
    }
   }
  },
  {
   "cell_type": "code",
   "execution_count": 15,
   "outputs": [
    {
     "name": "stdout",
     "output_type": "stream",
     "text": [
      "Data extracted and saved to /Users/pankajrathi/PycharmProjects/projcv/work/j8.xlsx\n"
     ]
    }
   ],
   "source": [
    "if __name__ == \"__main__\":\n",
    "    # Provide the path to your PDF file\n",
    "    pdf_path = \"/Users/pankajrathi/PycharmProjects/projcv/work/Mietvertrag 2 neu 13.OG-1.pdf\"\n",
    "\n",
    "    # Extract text from PDF with OCR\n",
    "    pdf_text = extract_text_from_pdf_with_ocr(pdf_path)\n",
    "\n",
    "    # Process text using spaCy\n",
    "    extracted_data = process_text_with_spacy(pdf_text)\n",
    "\n",
    "    # Save the extracted data to an Excel sheet\n",
    "    excel_path = \"/Users/pankajrathi/PycharmProjects/projcv/work/j8.xlsx\"\n",
    "    save_to_excel(extracted_data, excel_path)\n",
    "\n",
    "    print(f\"Data extracted and saved to {excel_path}\")"
   ],
   "metadata": {
    "collapsed": false,
    "ExecuteTime": {
     "end_time": "2023-12-21T12:02:36.696375Z",
     "start_time": "2023-12-21T12:02:35.932566Z"
    }
   }
  },
  {
   "cell_type": "code",
   "execution_count": null,
   "outputs": [],
   "source": [],
   "metadata": {
    "collapsed": false
   }
  }
 ],
 "metadata": {
  "kernelspec": {
   "display_name": "Python 3",
   "language": "python",
   "name": "python3"
  },
  "language_info": {
   "codemirror_mode": {
    "name": "ipython",
    "version": 2
   },
   "file_extension": ".py",
   "mimetype": "text/x-python",
   "name": "python",
   "nbconvert_exporter": "python",
   "pygments_lexer": "ipython2",
   "version": "2.7.6"
  }
 },
 "nbformat": 4,
 "nbformat_minor": 0
}
